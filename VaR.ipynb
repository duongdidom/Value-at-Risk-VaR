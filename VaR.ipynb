{
 "cells": [
  {
   "cell_type": "code",
   "execution_count": null,
   "metadata": {},
   "outputs": [],
   "source": [
    "# VaR for a portfolio of FNZ.NZ (nzx top 50) and VOO (vanguard s&p 500)\n",
    "# take into account exchange rate for VOO investment"
   ]
  },
  {
   "cell_type": "code",
   "execution_count": 2,
   "metadata": {},
   "outputs": [],
   "source": [
    "import pandas as pd\n",
    "import numpy as np\n",
    "import pandas_datareader.data as pdr\n",
    "import yfinance as yf\n",
    "from datetime import datetime, timedelta\n",
    "from scipy.stats import norm\n",
    "import matplotlib.pyplot as plt\n",
    "import seaborn as sns   #seaborn is a nice skin for matplotlib\n",
    "sns.set()\n",
    "from tabulate import tabulate\n",
    "from IPython.display import display"
   ]
  },
  {
   "cell_type": "markdown",
   "metadata": {},
   "source": [
    "# Import Data"
   ]
  },
  {
   "cell_type": "code",
   "execution_count": 3,
   "metadata": {},
   "outputs": [
    {
     "data": {
      "text/plain": [
       "datetime.datetime(2012, 10, 21, 15, 31, 27, 588190)"
      ]
     },
     "metadata": {},
     "output_type": "display_data"
    },
    {
     "data": {
      "text/plain": [
       "datetime.datetime(2022, 10, 19, 15, 31, 27, 588190)"
      ]
     },
     "metadata": {},
     "output_type": "display_data"
    }
   ],
   "source": [
    "# define symbols\n",
    "tickers = ['FNZ.NZ', 'VOO', 'NZDUSD=X']\n",
    "\n",
    "# define data range to extract data from\n",
    "start_date = datetime.today() - timedelta(days = 365*10)    # roughly 10 years ago. Not exact same date, but good enough. Need extra dates to fillna values anyway\n",
    "end_date = datetime.today()\n",
    "display(start_date, end_date)"
   ]
  },
  {
   "cell_type": "code",
   "execution_count": 33,
   "metadata": {},
   "outputs": [
    {
     "data": {
      "text/html": [
       "<div>\n",
       "<style scoped>\n",
       "    .dataframe tbody tr th:only-of-type {\n",
       "        vertical-align: middle;\n",
       "    }\n",
       "\n",
       "    .dataframe tbody tr th {\n",
       "        vertical-align: top;\n",
       "    }\n",
       "\n",
       "    .dataframe thead tr th {\n",
       "        text-align: left;\n",
       "    }\n",
       "\n",
       "    .dataframe thead tr:last-of-type th {\n",
       "        text-align: right;\n",
       "    }\n",
       "</style>\n",
       "<table border=\"1\" class=\"dataframe\">\n",
       "  <thead>\n",
       "    <tr>\n",
       "      <th>Attributes</th>\n",
       "      <th colspan=\"3\" halign=\"left\">Adj Close</th>\n",
       "      <th colspan=\"3\" halign=\"left\">Close</th>\n",
       "      <th colspan=\"3\" halign=\"left\">High</th>\n",
       "      <th colspan=\"3\" halign=\"left\">Low</th>\n",
       "      <th colspan=\"3\" halign=\"left\">Open</th>\n",
       "      <th colspan=\"3\" halign=\"left\">Volume</th>\n",
       "    </tr>\n",
       "    <tr>\n",
       "      <th>Symbols</th>\n",
       "      <th>FNZ.NZ</th>\n",
       "      <th>VOO</th>\n",
       "      <th>NZDUSD=X</th>\n",
       "      <th>FNZ.NZ</th>\n",
       "      <th>VOO</th>\n",
       "      <th>NZDUSD=X</th>\n",
       "      <th>FNZ.NZ</th>\n",
       "      <th>VOO</th>\n",
       "      <th>NZDUSD=X</th>\n",
       "      <th>FNZ.NZ</th>\n",
       "      <th>VOO</th>\n",
       "      <th>NZDUSD=X</th>\n",
       "      <th>FNZ.NZ</th>\n",
       "      <th>VOO</th>\n",
       "      <th>NZDUSD=X</th>\n",
       "      <th>FNZ.NZ</th>\n",
       "      <th>VOO</th>\n",
       "      <th>NZDUSD=X</th>\n",
       "    </tr>\n",
       "    <tr>\n",
       "      <th>Date</th>\n",
       "      <th></th>\n",
       "      <th></th>\n",
       "      <th></th>\n",
       "      <th></th>\n",
       "      <th></th>\n",
       "      <th></th>\n",
       "      <th></th>\n",
       "      <th></th>\n",
       "      <th></th>\n",
       "      <th></th>\n",
       "      <th></th>\n",
       "      <th></th>\n",
       "      <th></th>\n",
       "      <th></th>\n",
       "      <th></th>\n",
       "      <th></th>\n",
       "      <th></th>\n",
       "      <th></th>\n",
       "    </tr>\n",
       "  </thead>\n",
       "  <tbody>\n",
       "    <tr>\n",
       "      <th>2012-10-21</th>\n",
       "      <td>NaN</td>\n",
       "      <td>NaN</td>\n",
       "      <td>0.815727</td>\n",
       "      <td>NaN</td>\n",
       "      <td>NaN</td>\n",
       "      <td>0.815727</td>\n",
       "      <td>NaN</td>\n",
       "      <td>NaN</td>\n",
       "      <td>0.819202</td>\n",
       "      <td>NaN</td>\n",
       "      <td>NaN</td>\n",
       "      <td>0.815727</td>\n",
       "      <td>NaN</td>\n",
       "      <td>NaN</td>\n",
       "      <td>0.815727</td>\n",
       "      <td>NaN</td>\n",
       "      <td>NaN</td>\n",
       "      <td>0.0</td>\n",
       "    </tr>\n",
       "    <tr>\n",
       "      <th>2012-10-22</th>\n",
       "      <td>1.445</td>\n",
       "      <td>109.065987</td>\n",
       "      <td>0.818331</td>\n",
       "      <td>1.445</td>\n",
       "      <td>131.320007</td>\n",
       "      <td>0.818331</td>\n",
       "      <td>1.445</td>\n",
       "      <td>131.500000</td>\n",
       "      <td>0.818398</td>\n",
       "      <td>1.442</td>\n",
       "      <td>130.259995</td>\n",
       "      <td>0.810373</td>\n",
       "      <td>1.444</td>\n",
       "      <td>131.080002</td>\n",
       "      <td>0.818398</td>\n",
       "      <td>167581.0</td>\n",
       "      <td>503500.0</td>\n",
       "      <td>0.0</td>\n",
       "    </tr>\n",
       "    <tr>\n",
       "      <th>2012-10-23</th>\n",
       "      <td>1.440</td>\n",
       "      <td>107.471352</td>\n",
       "      <td>0.811227</td>\n",
       "      <td>1.440</td>\n",
       "      <td>129.399994</td>\n",
       "      <td>0.811227</td>\n",
       "      <td>1.444</td>\n",
       "      <td>130.039993</td>\n",
       "      <td>0.816527</td>\n",
       "      <td>1.437</td>\n",
       "      <td>128.960007</td>\n",
       "      <td>0.811162</td>\n",
       "      <td>1.440</td>\n",
       "      <td>129.919998</td>\n",
       "      <td>0.811162</td>\n",
       "      <td>101293.0</td>\n",
       "      <td>519000.0</td>\n",
       "      <td>0.0</td>\n",
       "    </tr>\n",
       "    <tr>\n",
       "      <th>2012-10-24</th>\n",
       "      <td>1.440</td>\n",
       "      <td>107.238785</td>\n",
       "      <td>0.820681</td>\n",
       "      <td>1.440</td>\n",
       "      <td>129.119995</td>\n",
       "      <td>0.820681</td>\n",
       "      <td>1.443</td>\n",
       "      <td>130.100006</td>\n",
       "      <td>0.824470</td>\n",
       "      <td>1.430</td>\n",
       "      <td>128.919998</td>\n",
       "      <td>0.820143</td>\n",
       "      <td>1.440</td>\n",
       "      <td>129.899994</td>\n",
       "      <td>0.821085</td>\n",
       "      <td>82272.0</td>\n",
       "      <td>365650.0</td>\n",
       "      <td>0.0</td>\n",
       "    </tr>\n",
       "    <tr>\n",
       "      <th>2012-10-25</th>\n",
       "      <td>1.440</td>\n",
       "      <td>107.537796</td>\n",
       "      <td>0.819941</td>\n",
       "      <td>1.440</td>\n",
       "      <td>129.479996</td>\n",
       "      <td>0.819941</td>\n",
       "      <td>1.440</td>\n",
       "      <td>130.240005</td>\n",
       "      <td>0.823927</td>\n",
       "      <td>1.437</td>\n",
       "      <td>128.720001</td>\n",
       "      <td>0.817194</td>\n",
       "      <td>1.437</td>\n",
       "      <td>130.080002</td>\n",
       "      <td>0.819605</td>\n",
       "      <td>34422.0</td>\n",
       "      <td>485500.0</td>\n",
       "      <td>0.0</td>\n",
       "    </tr>\n",
       "  </tbody>\n",
       "</table>\n",
       "</div>"
      ],
      "text/plain": [
       "Attributes Adj Close                        Close                        \\\n",
       "Symbols       FNZ.NZ         VOO  NZDUSD=X FNZ.NZ         VOO  NZDUSD=X   \n",
       "Date                                                                      \n",
       "2012-10-21       NaN         NaN  0.815727    NaN         NaN  0.815727   \n",
       "2012-10-22     1.445  109.065987  0.818331  1.445  131.320007  0.818331   \n",
       "2012-10-23     1.440  107.471352  0.811227  1.440  129.399994  0.811227   \n",
       "2012-10-24     1.440  107.238785  0.820681  1.440  129.119995  0.820681   \n",
       "2012-10-25     1.440  107.537796  0.819941  1.440  129.479996  0.819941   \n",
       "\n",
       "Attributes   High                          Low                         Open  \\\n",
       "Symbols    FNZ.NZ         VOO  NZDUSD=X FNZ.NZ         VOO  NZDUSD=X FNZ.NZ   \n",
       "Date                                                                          \n",
       "2012-10-21    NaN         NaN  0.819202    NaN         NaN  0.815727    NaN   \n",
       "2012-10-22  1.445  131.500000  0.818398  1.442  130.259995  0.810373  1.444   \n",
       "2012-10-23  1.444  130.039993  0.816527  1.437  128.960007  0.811162  1.440   \n",
       "2012-10-24  1.443  130.100006  0.824470  1.430  128.919998  0.820143  1.440   \n",
       "2012-10-25  1.440  130.240005  0.823927  1.437  128.720001  0.817194  1.437   \n",
       "\n",
       "Attributes                          Volume                     \n",
       "Symbols            VOO  NZDUSD=X    FNZ.NZ       VOO NZDUSD=X  \n",
       "Date                                                           \n",
       "2012-10-21         NaN  0.815727       NaN       NaN      0.0  \n",
       "2012-10-22  131.080002  0.818398  167581.0  503500.0      0.0  \n",
       "2012-10-23  129.919998  0.811162  101293.0  519000.0      0.0  \n",
       "2012-10-24  129.899994  0.821085   82272.0  365650.0      0.0  \n",
       "2012-10-25  130.080002  0.819605   34422.0  485500.0      0.0  "
      ]
     },
     "execution_count": 33,
     "metadata": {},
     "output_type": "execute_result"
    }
   ],
   "source": [
    "# get data from pandas_datareader. Source = yahoo finance\n",
    "data = pdr.DataReader(name=tickers, data_source='yahoo', start=start_date, end=end_date)\n",
    "data.head()"
   ]
  },
  {
   "cell_type": "code",
   "execution_count": 34,
   "metadata": {},
   "outputs": [
    {
     "data": {
      "text/html": [
       "<div>\n",
       "<style scoped>\n",
       "    .dataframe tbody tr th:only-of-type {\n",
       "        vertical-align: middle;\n",
       "    }\n",
       "\n",
       "    .dataframe tbody tr th {\n",
       "        vertical-align: top;\n",
       "    }\n",
       "\n",
       "    .dataframe thead th {\n",
       "        text-align: right;\n",
       "    }\n",
       "</style>\n",
       "<table border=\"1\" class=\"dataframe\">\n",
       "  <thead>\n",
       "    <tr style=\"text-align: right;\">\n",
       "      <th>Symbols</th>\n",
       "      <th>FNZ.NZ</th>\n",
       "      <th>VOO</th>\n",
       "      <th>NZDUSD=X</th>\n",
       "    </tr>\n",
       "    <tr>\n",
       "      <th>Date</th>\n",
       "      <th></th>\n",
       "      <th></th>\n",
       "      <th></th>\n",
       "    </tr>\n",
       "  </thead>\n",
       "  <tbody>\n",
       "    <tr>\n",
       "      <th>2012-10-21</th>\n",
       "      <td>NaN</td>\n",
       "      <td>NaN</td>\n",
       "      <td>0.815727</td>\n",
       "    </tr>\n",
       "    <tr>\n",
       "      <th>2012-10-22</th>\n",
       "      <td>1.445</td>\n",
       "      <td>109.065987</td>\n",
       "      <td>0.818331</td>\n",
       "    </tr>\n",
       "    <tr>\n",
       "      <th>2012-10-23</th>\n",
       "      <td>1.440</td>\n",
       "      <td>107.471352</td>\n",
       "      <td>0.811227</td>\n",
       "    </tr>\n",
       "    <tr>\n",
       "      <th>2012-10-24</th>\n",
       "      <td>1.440</td>\n",
       "      <td>107.238785</td>\n",
       "      <td>0.820681</td>\n",
       "    </tr>\n",
       "    <tr>\n",
       "      <th>2012-10-25</th>\n",
       "      <td>1.440</td>\n",
       "      <td>107.537796</td>\n",
       "      <td>0.819941</td>\n",
       "    </tr>\n",
       "  </tbody>\n",
       "</table>\n",
       "</div>"
      ],
      "text/plain": [
       "Symbols     FNZ.NZ         VOO  NZDUSD=X\n",
       "Date                                    \n",
       "2012-10-21     NaN         NaN  0.815727\n",
       "2012-10-22   1.445  109.065987  0.818331\n",
       "2012-10-23   1.440  107.471352  0.811227\n",
       "2012-10-24   1.440  107.238785  0.820681\n",
       "2012-10-25   1.440  107.537796  0.819941"
      ]
     },
     "metadata": {},
     "output_type": "display_data"
    },
    {
     "data": {
      "text/html": [
       "<div>\n",
       "<style scoped>\n",
       "    .dataframe tbody tr th:only-of-type {\n",
       "        vertical-align: middle;\n",
       "    }\n",
       "\n",
       "    .dataframe tbody tr th {\n",
       "        vertical-align: top;\n",
       "    }\n",
       "\n",
       "    .dataframe thead th {\n",
       "        text-align: right;\n",
       "    }\n",
       "</style>\n",
       "<table border=\"1\" class=\"dataframe\">\n",
       "  <thead>\n",
       "    <tr style=\"text-align: right;\">\n",
       "      <th>Symbols</th>\n",
       "      <th>FNZ.NZ</th>\n",
       "      <th>VOO</th>\n",
       "      <th>NZDUSD=X</th>\n",
       "    </tr>\n",
       "    <tr>\n",
       "      <th>Date</th>\n",
       "      <th></th>\n",
       "      <th></th>\n",
       "      <th></th>\n",
       "    </tr>\n",
       "  </thead>\n",
       "  <tbody>\n",
       "    <tr>\n",
       "      <th>2022-10-13</th>\n",
       "      <td>2.932</td>\n",
       "      <td>336.220001</td>\n",
       "      <td>0.563911</td>\n",
       "    </tr>\n",
       "    <tr>\n",
       "      <th>2022-10-14</th>\n",
       "      <td>NaN</td>\n",
       "      <td>328.649994</td>\n",
       "      <td>NaN</td>\n",
       "    </tr>\n",
       "    <tr>\n",
       "      <th>2022-10-16</th>\n",
       "      <td>2.905</td>\n",
       "      <td>NaN</td>\n",
       "      <td>0.557600</td>\n",
       "    </tr>\n",
       "    <tr>\n",
       "      <th>2022-10-17</th>\n",
       "      <td>NaN</td>\n",
       "      <td>337.000000</td>\n",
       "      <td>0.565668</td>\n",
       "    </tr>\n",
       "    <tr>\n",
       "      <th>2022-10-18</th>\n",
       "      <td>2.918</td>\n",
       "      <td>340.970001</td>\n",
       "      <td>0.569022</td>\n",
       "    </tr>\n",
       "  </tbody>\n",
       "</table>\n",
       "</div>"
      ],
      "text/plain": [
       "Symbols     FNZ.NZ         VOO  NZDUSD=X\n",
       "Date                                    \n",
       "2022-10-13   2.932  336.220001  0.563911\n",
       "2022-10-14     NaN  328.649994       NaN\n",
       "2022-10-16   2.905         NaN  0.557600\n",
       "2022-10-17     NaN  337.000000  0.565668\n",
       "2022-10-18   2.918  340.970001  0.569022"
      ]
     },
     "metadata": {},
     "output_type": "display_data"
    }
   ],
   "source": [
    "# take adjusted close only\n",
    "display(data['Adj Close'].head())\n",
    "display(data['Adj Close'].tail())"
   ]
  },
  {
   "cell_type": "code",
   "execution_count": 35,
   "metadata": {},
   "outputs": [
    {
     "data": {
      "text/html": [
       "<div>\n",
       "<style scoped>\n",
       "    .dataframe tbody tr th:only-of-type {\n",
       "        vertical-align: middle;\n",
       "    }\n",
       "\n",
       "    .dataframe tbody tr th {\n",
       "        vertical-align: top;\n",
       "    }\n",
       "\n",
       "    .dataframe thead th {\n",
       "        text-align: right;\n",
       "    }\n",
       "</style>\n",
       "<table border=\"1\" class=\"dataframe\">\n",
       "  <thead>\n",
       "    <tr style=\"text-align: right;\">\n",
       "      <th>Symbols</th>\n",
       "      <th>FNZ.NZ</th>\n",
       "      <th>VOO</th>\n",
       "      <th>NZDUSD=X</th>\n",
       "    </tr>\n",
       "    <tr>\n",
       "      <th>Date</th>\n",
       "      <th></th>\n",
       "      <th></th>\n",
       "      <th></th>\n",
       "    </tr>\n",
       "  </thead>\n",
       "  <tbody>\n",
       "    <tr>\n",
       "      <th>2012-10-21</th>\n",
       "      <td>NaN</td>\n",
       "      <td>NaN</td>\n",
       "      <td>0.815727</td>\n",
       "    </tr>\n",
       "    <tr>\n",
       "      <th>2012-10-22</th>\n",
       "      <td>1.445</td>\n",
       "      <td>109.065987</td>\n",
       "      <td>0.818331</td>\n",
       "    </tr>\n",
       "    <tr>\n",
       "      <th>2012-10-23</th>\n",
       "      <td>1.440</td>\n",
       "      <td>107.471352</td>\n",
       "      <td>0.811227</td>\n",
       "    </tr>\n",
       "    <tr>\n",
       "      <th>2012-10-24</th>\n",
       "      <td>1.440</td>\n",
       "      <td>107.238785</td>\n",
       "      <td>0.820681</td>\n",
       "    </tr>\n",
       "    <tr>\n",
       "      <th>2012-10-25</th>\n",
       "      <td>1.440</td>\n",
       "      <td>107.537796</td>\n",
       "      <td>0.819941</td>\n",
       "    </tr>\n",
       "  </tbody>\n",
       "</table>\n",
       "</div>"
      ],
      "text/plain": [
       "Symbols     FNZ.NZ         VOO  NZDUSD=X\n",
       "Date                                    \n",
       "2012-10-21     NaN         NaN  0.815727\n",
       "2012-10-22   1.445  109.065987  0.818331\n",
       "2012-10-23   1.440  107.471352  0.811227\n",
       "2012-10-24   1.440  107.238785  0.820681\n",
       "2012-10-25   1.440  107.537796  0.819941"
      ]
     },
     "metadata": {},
     "output_type": "display_data"
    },
    {
     "data": {
      "text/html": [
       "<div>\n",
       "<style scoped>\n",
       "    .dataframe tbody tr th:only-of-type {\n",
       "        vertical-align: middle;\n",
       "    }\n",
       "\n",
       "    .dataframe tbody tr th {\n",
       "        vertical-align: top;\n",
       "    }\n",
       "\n",
       "    .dataframe thead th {\n",
       "        text-align: right;\n",
       "    }\n",
       "</style>\n",
       "<table border=\"1\" class=\"dataframe\">\n",
       "  <thead>\n",
       "    <tr style=\"text-align: right;\">\n",
       "      <th>Symbols</th>\n",
       "      <th>FNZ.NZ</th>\n",
       "      <th>VOO</th>\n",
       "      <th>NZDUSD=X</th>\n",
       "    </tr>\n",
       "    <tr>\n",
       "      <th>Date</th>\n",
       "      <th></th>\n",
       "      <th></th>\n",
       "      <th></th>\n",
       "    </tr>\n",
       "  </thead>\n",
       "  <tbody>\n",
       "    <tr>\n",
       "      <th>2022-10-13</th>\n",
       "      <td>2.932</td>\n",
       "      <td>336.220001</td>\n",
       "      <td>0.563911</td>\n",
       "    </tr>\n",
       "    <tr>\n",
       "      <th>2022-10-14</th>\n",
       "      <td>2.932</td>\n",
       "      <td>328.649994</td>\n",
       "      <td>0.563911</td>\n",
       "    </tr>\n",
       "    <tr>\n",
       "      <th>2022-10-16</th>\n",
       "      <td>2.905</td>\n",
       "      <td>328.649994</td>\n",
       "      <td>0.557600</td>\n",
       "    </tr>\n",
       "    <tr>\n",
       "      <th>2022-10-17</th>\n",
       "      <td>2.905</td>\n",
       "      <td>337.000000</td>\n",
       "      <td>0.565668</td>\n",
       "    </tr>\n",
       "    <tr>\n",
       "      <th>2022-10-18</th>\n",
       "      <td>2.918</td>\n",
       "      <td>340.970001</td>\n",
       "      <td>0.569022</td>\n",
       "    </tr>\n",
       "  </tbody>\n",
       "</table>\n",
       "</div>"
      ],
      "text/plain": [
       "Symbols     FNZ.NZ         VOO  NZDUSD=X\n",
       "Date                                    \n",
       "2022-10-13   2.932  336.220001  0.563911\n",
       "2022-10-14   2.932  328.649994  0.563911\n",
       "2022-10-16   2.905  328.649994  0.557600\n",
       "2022-10-17   2.905  337.000000  0.565668\n",
       "2022-10-18   2.918  340.970001  0.569022"
      ]
     },
     "metadata": {},
     "output_type": "display_data"
    }
   ],
   "source": [
    "# fillna with value of the previous day\n",
    "ClosePrice = data['Adj Close'].fillna(method=\"ffill\")\n",
    "display(ClosePrice.head())\n",
    "display(ClosePrice.tail())"
   ]
  },
  {
   "cell_type": "code",
   "execution_count": 36,
   "metadata": {},
   "outputs": [],
   "source": [
    "# use only from the 2nd row because the 1st row values are null\n",
    "ClosePrice = ClosePrice[1:]\n",
    "# export to csv. Shall only with this exported data because it shall be static\n",
    "ClosePrice.to_csv('AdjClosePrice.csv')"
   ]
  },
  {
   "cell_type": "code",
   "execution_count": 4,
   "metadata": {},
   "outputs": [
    {
     "data": {
      "text/html": [
       "<div>\n",
       "<style scoped>\n",
       "    .dataframe tbody tr th:only-of-type {\n",
       "        vertical-align: middle;\n",
       "    }\n",
       "\n",
       "    .dataframe tbody tr th {\n",
       "        vertical-align: top;\n",
       "    }\n",
       "\n",
       "    .dataframe thead th {\n",
       "        text-align: right;\n",
       "    }\n",
       "</style>\n",
       "<table border=\"1\" class=\"dataframe\">\n",
       "  <thead>\n",
       "    <tr style=\"text-align: right;\">\n",
       "      <th></th>\n",
       "      <th>Date</th>\n",
       "      <th>FNZ.NZ</th>\n",
       "      <th>VOO</th>\n",
       "      <th>NZDUSD=X</th>\n",
       "    </tr>\n",
       "  </thead>\n",
       "  <tbody>\n",
       "    <tr>\n",
       "      <th>0</th>\n",
       "      <td>2012-10-22</td>\n",
       "      <td>1.445</td>\n",
       "      <td>109.065987</td>\n",
       "      <td>0.818331</td>\n",
       "    </tr>\n",
       "    <tr>\n",
       "      <th>1</th>\n",
       "      <td>2012-10-23</td>\n",
       "      <td>1.440</td>\n",
       "      <td>107.471352</td>\n",
       "      <td>0.811227</td>\n",
       "    </tr>\n",
       "    <tr>\n",
       "      <th>2</th>\n",
       "      <td>2012-10-24</td>\n",
       "      <td>1.440</td>\n",
       "      <td>107.238785</td>\n",
       "      <td>0.820681</td>\n",
       "    </tr>\n",
       "    <tr>\n",
       "      <th>3</th>\n",
       "      <td>2012-10-25</td>\n",
       "      <td>1.440</td>\n",
       "      <td>107.537796</td>\n",
       "      <td>0.819941</td>\n",
       "    </tr>\n",
       "    <tr>\n",
       "      <th>4</th>\n",
       "      <td>2012-10-26</td>\n",
       "      <td>1.440</td>\n",
       "      <td>107.454735</td>\n",
       "      <td>0.819941</td>\n",
       "    </tr>\n",
       "  </tbody>\n",
       "</table>\n",
       "</div>"
      ],
      "text/plain": [
       "         Date  FNZ.NZ         VOO  NZDUSD=X\n",
       "0  2012-10-22   1.445  109.065987  0.818331\n",
       "1  2012-10-23   1.440  107.471352  0.811227\n",
       "2  2012-10-24   1.440  107.238785  0.820681\n",
       "3  2012-10-25   1.440  107.537796  0.819941\n",
       "4  2012-10-26   1.440  107.454735  0.819941"
      ]
     },
     "execution_count": 4,
     "metadata": {},
     "output_type": "execute_result"
    }
   ],
   "source": [
    "df = pd.read_csv('AdjClosePrice.csv', header=0)\n",
    "df.head()"
   ]
  },
  {
   "cell_type": "code",
   "execution_count": 5,
   "metadata": {},
   "outputs": [
    {
     "name": "stdout",
     "output_type": "stream",
     "text": [
      "count null value for each column:\n"
     ]
    },
    {
     "data": {
      "text/plain": [
       "Date        0\n",
       "FNZ.NZ      0\n",
       "VOO         0\n",
       "NZDUSD=X    0\n",
       "dtype: int64"
      ]
     },
     "execution_count": 5,
     "metadata": {},
     "output_type": "execute_result"
    }
   ],
   "source": [
    "print('count null value for each column:')\n",
    "df.isnull().sum()"
   ]
  },
  {
   "cell_type": "markdown",
   "metadata": {},
   "source": [
    "# Returns & Values"
   ]
  },
  {
   "cell_type": "markdown",
   "metadata": {},
   "source": [
    "## compute"
   ]
  },
  {
   "cell_type": "code",
   "execution_count": 6,
   "metadata": {},
   "outputs": [],
   "source": [
    "# assume initial investment of NZD1000 in each ticker. \n",
    "invst = 1000\n",
    "\n",
    "# assume the portfolio consists of equal weight investment in each ticker\n",
    "weightInvt = 1/2"
   ]
  },
  {
   "cell_type": "code",
   "execution_count": 7,
   "metadata": {},
   "outputs": [
    {
     "name": "stdout",
     "output_type": "stream",
     "text": [
      "returns:\n"
     ]
    },
    {
     "data": {
      "text/html": [
       "<div>\n",
       "<style scoped>\n",
       "    .dataframe tbody tr th:only-of-type {\n",
       "        vertical-align: middle;\n",
       "    }\n",
       "\n",
       "    .dataframe tbody tr th {\n",
       "        vertical-align: top;\n",
       "    }\n",
       "\n",
       "    .dataframe thead th {\n",
       "        text-align: right;\n",
       "    }\n",
       "</style>\n",
       "<table border=\"1\" class=\"dataframe\">\n",
       "  <thead>\n",
       "    <tr style=\"text-align: right;\">\n",
       "      <th></th>\n",
       "      <th>FNZ.NZ</th>\n",
       "      <th>VOO</th>\n",
       "      <th>NZDUSD=X</th>\n",
       "      <th>VOOnzd</th>\n",
       "      <th>Portf_return</th>\n",
       "    </tr>\n",
       "  </thead>\n",
       "  <tbody>\n",
       "    <tr>\n",
       "      <th>2012-10-23</th>\n",
       "      <td>-0.003466</td>\n",
       "      <td>-0.014729</td>\n",
       "      <td>-0.008718</td>\n",
       "      <td>-0.006011</td>\n",
       "      <td>-0.004738</td>\n",
       "    </tr>\n",
       "    <tr>\n",
       "      <th>2012-10-24</th>\n",
       "      <td>0.000000</td>\n",
       "      <td>-0.002166</td>\n",
       "      <td>0.011586</td>\n",
       "      <td>-0.013753</td>\n",
       "      <td>-0.006876</td>\n",
       "    </tr>\n",
       "    <tr>\n",
       "      <th>2012-10-25</th>\n",
       "      <td>0.000000</td>\n",
       "      <td>0.002784</td>\n",
       "      <td>-0.000902</td>\n",
       "      <td>0.003687</td>\n",
       "      <td>0.001843</td>\n",
       "    </tr>\n",
       "    <tr>\n",
       "      <th>2012-10-26</th>\n",
       "      <td>0.000000</td>\n",
       "      <td>-0.000773</td>\n",
       "      <td>0.000000</td>\n",
       "      <td>-0.000773</td>\n",
       "      <td>-0.000386</td>\n",
       "    </tr>\n",
       "    <tr>\n",
       "      <th>2012-10-28</th>\n",
       "      <td>-0.002086</td>\n",
       "      <td>0.000000</td>\n",
       "      <td>0.000000</td>\n",
       "      <td>0.000000</td>\n",
       "      <td>-0.001043</td>\n",
       "    </tr>\n",
       "  </tbody>\n",
       "</table>\n",
       "</div>"
      ],
      "text/plain": [
       "              FNZ.NZ       VOO  NZDUSD=X    VOOnzd  Portf_return\n",
       "2012-10-23 -0.003466 -0.014729 -0.008718 -0.006011     -0.004738\n",
       "2012-10-24  0.000000 -0.002166  0.011586 -0.013753     -0.006876\n",
       "2012-10-25  0.000000  0.002784 -0.000902  0.003687      0.001843\n",
       "2012-10-26  0.000000 -0.000773  0.000000 -0.000773     -0.000386\n",
       "2012-10-28 -0.002086  0.000000  0.000000  0.000000     -0.001043"
      ]
     },
     "metadata": {},
     "output_type": "display_data"
    },
    {
     "data": {
      "text/html": [
       "<div>\n",
       "<style scoped>\n",
       "    .dataframe tbody tr th:only-of-type {\n",
       "        vertical-align: middle;\n",
       "    }\n",
       "\n",
       "    .dataframe tbody tr th {\n",
       "        vertical-align: top;\n",
       "    }\n",
       "\n",
       "    .dataframe thead th {\n",
       "        text-align: right;\n",
       "    }\n",
       "</style>\n",
       "<table border=\"1\" class=\"dataframe\">\n",
       "  <thead>\n",
       "    <tr style=\"text-align: right;\">\n",
       "      <th></th>\n",
       "      <th>FNZ.NZ</th>\n",
       "      <th>VOO</th>\n",
       "      <th>NZDUSD=X</th>\n",
       "      <th>VOOnzd</th>\n",
       "      <th>Portf_return</th>\n",
       "    </tr>\n",
       "  </thead>\n",
       "  <tbody>\n",
       "    <tr>\n",
       "      <th>2022-10-13</th>\n",
       "      <td>0.001707</td>\n",
       "      <td>0.025850</td>\n",
       "      <td>0.004928</td>\n",
       "      <td>0.020923</td>\n",
       "      <td>0.011315</td>\n",
       "    </tr>\n",
       "    <tr>\n",
       "      <th>2022-10-14</th>\n",
       "      <td>0.000000</td>\n",
       "      <td>-0.022772</td>\n",
       "      <td>0.000000</td>\n",
       "      <td>-0.022772</td>\n",
       "      <td>-0.011386</td>\n",
       "    </tr>\n",
       "    <tr>\n",
       "      <th>2022-10-16</th>\n",
       "      <td>-0.009251</td>\n",
       "      <td>0.000000</td>\n",
       "      <td>-0.011254</td>\n",
       "      <td>0.011254</td>\n",
       "      <td>0.001001</td>\n",
       "    </tr>\n",
       "    <tr>\n",
       "      <th>2022-10-17</th>\n",
       "      <td>0.000000</td>\n",
       "      <td>0.025090</td>\n",
       "      <td>0.014366</td>\n",
       "      <td>0.010723</td>\n",
       "      <td>0.005362</td>\n",
       "    </tr>\n",
       "    <tr>\n",
       "      <th>2022-10-18</th>\n",
       "      <td>0.004465</td>\n",
       "      <td>0.011712</td>\n",
       "      <td>0.005912</td>\n",
       "      <td>0.005800</td>\n",
       "      <td>0.005132</td>\n",
       "    </tr>\n",
       "  </tbody>\n",
       "</table>\n",
       "</div>"
      ],
      "text/plain": [
       "              FNZ.NZ       VOO  NZDUSD=X    VOOnzd  Portf_return\n",
       "2022-10-13  0.001707  0.025850  0.004928  0.020923      0.011315\n",
       "2022-10-14  0.000000 -0.022772  0.000000 -0.022772     -0.011386\n",
       "2022-10-16 -0.009251  0.000000 -0.011254  0.011254      0.001001\n",
       "2022-10-17  0.000000  0.025090  0.014366  0.010723      0.005362\n",
       "2022-10-18  0.004465  0.011712  0.005912  0.005800      0.005132"
      ]
     },
     "metadata": {},
     "output_type": "display_data"
    },
    {
     "name": "stdout",
     "output_type": "stream",
     "text": [
      "values:\n"
     ]
    },
    {
     "data": {
      "text/html": [
       "<div>\n",
       "<style scoped>\n",
       "    .dataframe tbody tr th:only-of-type {\n",
       "        vertical-align: middle;\n",
       "    }\n",
       "\n",
       "    .dataframe tbody tr th {\n",
       "        vertical-align: top;\n",
       "    }\n",
       "\n",
       "    .dataframe thead th {\n",
       "        text-align: right;\n",
       "    }\n",
       "</style>\n",
       "<table border=\"1\" class=\"dataframe\">\n",
       "  <thead>\n",
       "    <tr style=\"text-align: right;\">\n",
       "      <th></th>\n",
       "      <th>FNZ.NZnzd_value</th>\n",
       "      <th>VOOnzd_value</th>\n",
       "      <th>Portfnzd_value</th>\n",
       "    </tr>\n",
       "  </thead>\n",
       "  <tbody>\n",
       "    <tr>\n",
       "      <th>2012-10-23</th>\n",
       "      <td>996.539796</td>\n",
       "      <td>994.007271</td>\n",
       "      <td>995.272728</td>\n",
       "    </tr>\n",
       "    <tr>\n",
       "      <th>2012-10-24</th>\n",
       "      <td>996.539796</td>\n",
       "      <td>980.430638</td>\n",
       "      <td>988.452400</td>\n",
       "    </tr>\n",
       "    <tr>\n",
       "      <th>2012-10-25</th>\n",
       "      <td>996.539796</td>\n",
       "      <td>984.051863</td>\n",
       "      <td>990.276144</td>\n",
       "    </tr>\n",
       "    <tr>\n",
       "      <th>2012-10-26</th>\n",
       "      <td>996.539796</td>\n",
       "      <td>983.291790</td>\n",
       "      <td>989.893630</td>\n",
       "    </tr>\n",
       "    <tr>\n",
       "      <th>2012-10-28</th>\n",
       "      <td>994.463657</td>\n",
       "      <td>983.291790</td>\n",
       "      <td>988.861946</td>\n",
       "    </tr>\n",
       "  </tbody>\n",
       "</table>\n",
       "</div>"
      ],
      "text/plain": [
       "            FNZ.NZnzd_value  VOOnzd_value  Portfnzd_value\n",
       "2012-10-23       996.539796    994.007271      995.272728\n",
       "2012-10-24       996.539796    980.430638      988.452400\n",
       "2012-10-25       996.539796    984.051863      990.276144\n",
       "2012-10-26       996.539796    983.291790      989.893630\n",
       "2012-10-28       994.463657    983.291790      988.861946"
      ]
     },
     "metadata": {},
     "output_type": "display_data"
    },
    {
     "data": {
      "text/html": [
       "<div>\n",
       "<style scoped>\n",
       "    .dataframe tbody tr th:only-of-type {\n",
       "        vertical-align: middle;\n",
       "    }\n",
       "\n",
       "    .dataframe tbody tr th {\n",
       "        vertical-align: top;\n",
       "    }\n",
       "\n",
       "    .dataframe thead th {\n",
       "        text-align: right;\n",
       "    }\n",
       "</style>\n",
       "<table border=\"1\" class=\"dataframe\">\n",
       "  <thead>\n",
       "    <tr style=\"text-align: right;\">\n",
       "      <th></th>\n",
       "      <th>FNZ.NZnzd_value</th>\n",
       "      <th>VOOnzd_value</th>\n",
       "      <th>Portfnzd_value</th>\n",
       "    </tr>\n",
       "  </thead>\n",
       "  <tbody>\n",
       "    <tr>\n",
       "      <th>2022-10-13</th>\n",
       "      <td>2029.065616</td>\n",
       "      <td>4473.552641</td>\n",
       "      <td>3012.827882</td>\n",
       "    </tr>\n",
       "    <tr>\n",
       "      <th>2022-10-14</th>\n",
       "      <td>2029.065616</td>\n",
       "      <td>4372.830417</td>\n",
       "      <td>2978.717819</td>\n",
       "    </tr>\n",
       "    <tr>\n",
       "      <th>2022-10-16</th>\n",
       "      <td>2010.380530</td>\n",
       "      <td>4422.320882</td>\n",
       "      <td>2981.702165</td>\n",
       "    </tr>\n",
       "    <tr>\n",
       "      <th>2022-10-17</th>\n",
       "      <td>2010.380530</td>\n",
       "      <td>4469.998577</td>\n",
       "      <td>2997.732161</td>\n",
       "    </tr>\n",
       "    <tr>\n",
       "      <th>2022-10-18</th>\n",
       "      <td>2019.377077</td>\n",
       "      <td>4495.999418</td>\n",
       "      <td>3013.157507</td>\n",
       "    </tr>\n",
       "  </tbody>\n",
       "</table>\n",
       "</div>"
      ],
      "text/plain": [
       "            FNZ.NZnzd_value  VOOnzd_value  Portfnzd_value\n",
       "2022-10-13      2029.065616   4473.552641     3012.827882\n",
       "2022-10-14      2029.065616   4372.830417     2978.717819\n",
       "2022-10-16      2010.380530   4422.320882     2981.702165\n",
       "2022-10-17      2010.380530   4469.998577     2997.732161\n",
       "2022-10-18      2019.377077   4495.999418     3013.157507"
      ]
     },
     "metadata": {},
     "output_type": "display_data"
    }
   ],
   "source": [
    "# compute return. Use Log return instead because dealing with 10 years data here\n",
    "df_returns = df[tickers].pct_change()   # (OPTIONAL) = arithmetic return = end/begin - 1 \n",
    "df_returns = np.log(df[tickers]) - np.log(df[tickers].shift(1))     # = geometric return = log(end/begin) = log(end) - log(begin)\n",
    "df_returns['VOOnzd'] = df_returns['VOO'] - df_returns['NZDUSD=X']   # return of VOO converted to NZD\n",
    "df_returns['Portf_return'] = (df_returns['FNZ.NZ']*weightInvt + df_returns['VOOnzd']*(1-weightInvt))   # return of the portfolio in NZD\n",
    "df_returns.index = df['Date'].values\n",
    "df_returns = df_returns[1:]     # only take the second row because return value will always be missing for the first row\n",
    "\n",
    "# compute value of investment if invest the initial amount in each stock/portfolio individually\n",
    "df_values = pd.DataFrame(index=df_returns.index)\n",
    "df_values['FNZ.NZnzd_value'] = invst * np.exp(df_returns['FNZ.NZ'].cumsum())\n",
    "df_values['VOOnzd_value'] = invst * np.exp(df_returns['VOOnzd'].cumsum())\n",
    "df_values['Portfnzd_value'] = invst * np.exp(df_returns['Portf_return'].cumsum())\n",
    "\n",
    "print('returns:')\n",
    "display(df_returns.head())\n",
    "display(df_returns.tail())\n",
    "print('values:')\n",
    "display(df_values.head())\n",
    "display(df_values.tail())"
   ]
  },
  {
   "cell_type": "code",
   "execution_count": 8,
   "metadata": {},
   "outputs": [
    {
     "data": {
      "image/png": "[encoded data removed]",
      "text/plain": [
       "<Figure size 640x480 with 1 Axes>"
      ]
     },
     "metadata": {},
     "output_type": "display_data"
    }
   ],
   "source": [
    "# plot cumulative value\n",
    "ax = plt.gca()\n",
    "ax.get_xaxis().set_visible(False)\n",
    "FNZnzd = plt.plot(df_values.index, df_values['FNZ.NZnzd_value'], label='FNZ')\n",
    "VOOnzd = plt.plot(df_values.index, df_values['VOOnzd_value'], label='VOO (nzd)')\n",
    "Portfnzd = plt.plot(df_values.index, df_values['Portfnzd_value'], label='Portfolio (nzd)')\n",
    "plt.legend(loc='upper left')\n",
    "plt.show()"
   ]
  },
  {
   "cell_type": "markdown",
   "metadata": {},
   "source": [
    "## returns covariance & correlation"
   ]
  },
  {
   "cell_type": "code",
   "execution_count": 9,
   "metadata": {},
   "outputs": [
    {
     "data": {
      "text/html": [
       "<div>\n",
       "<style scoped>\n",
       "    .dataframe tbody tr th:only-of-type {\n",
       "        vertical-align: middle;\n",
       "    }\n",
       "\n",
       "    .dataframe tbody tr th {\n",
       "        vertical-align: top;\n",
       "    }\n",
       "\n",
       "    .dataframe thead th {\n",
       "        text-align: right;\n",
       "    }\n",
       "</style>\n",
       "<table border=\"1\" class=\"dataframe\">\n",
       "  <thead>\n",
       "    <tr style=\"text-align: right;\">\n",
       "      <th></th>\n",
       "      <th>FNZ.NZ</th>\n",
       "      <th>VOO</th>\n",
       "      <th>NZDUSD=X</th>\n",
       "      <th>VOOnzd</th>\n",
       "      <th>Portf_return</th>\n",
       "    </tr>\n",
       "  </thead>\n",
       "  <tbody>\n",
       "    <tr>\n",
       "      <th>FNZ.NZ</th>\n",
       "      <td>0.000049</td>\n",
       "      <td>0.000021</td>\n",
       "      <td>0.000003</td>\n",
       "      <td>0.000018</td>\n",
       "      <td>0.000034</td>\n",
       "    </tr>\n",
       "    <tr>\n",
       "      <th>VOO</th>\n",
       "      <td>0.000021</td>\n",
       "      <td>0.000098</td>\n",
       "      <td>0.000010</td>\n",
       "      <td>0.000088</td>\n",
       "      <td>0.000054</td>\n",
       "    </tr>\n",
       "    <tr>\n",
       "      <th>NZDUSD=X</th>\n",
       "      <td>0.000003</td>\n",
       "      <td>0.000010</td>\n",
       "      <td>0.000035</td>\n",
       "      <td>-0.000025</td>\n",
       "      <td>-0.000011</td>\n",
       "    </tr>\n",
       "    <tr>\n",
       "      <th>VOOnzd</th>\n",
       "      <td>0.000018</td>\n",
       "      <td>0.000088</td>\n",
       "      <td>-0.000025</td>\n",
       "      <td>0.000113</td>\n",
       "      <td>0.000065</td>\n",
       "    </tr>\n",
       "    <tr>\n",
       "      <th>Portf_return</th>\n",
       "      <td>0.000034</td>\n",
       "      <td>0.000054</td>\n",
       "      <td>-0.000011</td>\n",
       "      <td>0.000065</td>\n",
       "      <td>0.000049</td>\n",
       "    </tr>\n",
       "  </tbody>\n",
       "</table>\n",
       "</div>"
      ],
      "text/plain": [
       "                FNZ.NZ       VOO  NZDUSD=X    VOOnzd  Portf_return\n",
       "FNZ.NZ        0.000049  0.000021  0.000003  0.000018      0.000034\n",
       "VOO           0.000021  0.000098  0.000010  0.000088      0.000054\n",
       "NZDUSD=X      0.000003  0.000010  0.000035 -0.000025     -0.000011\n",
       "VOOnzd        0.000018  0.000088 -0.000025  0.000113      0.000065\n",
       "Portf_return  0.000034  0.000054 -0.000011  0.000065      0.000049"
      ]
     },
     "execution_count": 9,
     "metadata": {},
     "output_type": "execute_result"
    }
   ],
   "source": [
    "# covariance matrix between 2 tickers and NZDUSD only \n",
    "df_returns.cov()"
   ]
  },
  {
   "cell_type": "code",
   "execution_count": 10,
   "metadata": {},
   "outputs": [
    {
     "data": {
      "text/html": [
       "<div>\n",
       "<style scoped>\n",
       "    .dataframe tbody tr th:only-of-type {\n",
       "        vertical-align: middle;\n",
       "    }\n",
       "\n",
       "    .dataframe tbody tr th {\n",
       "        vertical-align: top;\n",
       "    }\n",
       "\n",
       "    .dataframe thead th {\n",
       "        text-align: right;\n",
       "    }\n",
       "</style>\n",
       "<table border=\"1\" class=\"dataframe\">\n",
       "  <thead>\n",
       "    <tr style=\"text-align: right;\">\n",
       "      <th></th>\n",
       "      <th>FNZ.NZ</th>\n",
       "      <th>VOO</th>\n",
       "      <th>NZDUSD=X</th>\n",
       "      <th>VOOnzd</th>\n",
       "      <th>Portf_return</th>\n",
       "    </tr>\n",
       "  </thead>\n",
       "  <tbody>\n",
       "    <tr>\n",
       "      <th>FNZ.NZ</th>\n",
       "      <td>1.000000</td>\n",
       "      <td>0.301496</td>\n",
       "      <td>0.078859</td>\n",
       "      <td>0.236329</td>\n",
       "      <td>0.678166</td>\n",
       "    </tr>\n",
       "    <tr>\n",
       "      <th>VOO</th>\n",
       "      <td>0.301496</td>\n",
       "      <td>1.000000</td>\n",
       "      <td>0.170496</td>\n",
       "      <td>0.834744</td>\n",
       "      <td>0.781919</td>\n",
       "    </tr>\n",
       "    <tr>\n",
       "      <th>NZDUSD=X</th>\n",
       "      <td>0.078859</td>\n",
       "      <td>0.170496</td>\n",
       "      <td>1.000000</td>\n",
       "      <td>-0.400256</td>\n",
       "      <td>-0.263343</td>\n",
       "    </tr>\n",
       "    <tr>\n",
       "      <th>VOOnzd</th>\n",
       "      <td>0.236329</td>\n",
       "      <td>0.834744</td>\n",
       "      <td>-0.400256</td>\n",
       "      <td>1.000000</td>\n",
       "      <td>0.874362</td>\n",
       "    </tr>\n",
       "    <tr>\n",
       "      <th>Portf_return</th>\n",
       "      <td>0.678166</td>\n",
       "      <td>0.781919</td>\n",
       "      <td>-0.263343</td>\n",
       "      <td>0.874362</td>\n",
       "      <td>1.000000</td>\n",
       "    </tr>\n",
       "  </tbody>\n",
       "</table>\n",
       "</div>"
      ],
      "text/plain": [
       "                FNZ.NZ       VOO  NZDUSD=X    VOOnzd  Portf_return\n",
       "FNZ.NZ        1.000000  0.301496  0.078859  0.236329      0.678166\n",
       "VOO           0.301496  1.000000  0.170496  0.834744      0.781919\n",
       "NZDUSD=X      0.078859  0.170496  1.000000 -0.400256     -0.263343\n",
       "VOOnzd        0.236329  0.834744 -0.400256  1.000000      0.874362\n",
       "Portf_return  0.678166  0.781919 -0.263343  0.874362      1.000000"
      ]
     },
     "metadata": {},
     "output_type": "display_data"
    },
    {
     "data": {
      "image/png": "[encoded data removed]",
      "text/plain": [
       "<Figure size 640x480 with 2 Axes>"
      ]
     },
     "metadata": {},
     "output_type": "display_data"
    }
   ],
   "source": [
    "# correlation matrix and its heat map\n",
    "display(df_returns.corr())  # value\n",
    "\n",
    "sns.heatmap(\n",
    "    data=df_returns.corr(),  \n",
    "    linewidths=0.3,  # the width of lines separating the matrix squares\n",
    "    square=True,   # enforce 1:1 ratios among correlation cells\n",
    "    cmap=sns.diverging_palette(230, 20, as_cmap=True),  # use custom color map \n",
    "    vmax=1,  # define the max of correlation scale\n",
    "    vmin=-1, # define the min of correlation scale\n",
    "    center=0,  # The value at which the color map is centered about (white)\n",
    "    cbar_kws={\"shrink\": .75}  # shrink the scale a bit\n",
    ")\n",
    "plt.yticks(rotation=0)  # rotate y-axis label for readability\n",
    "plt.show()"
   ]
  },
  {
   "cell_type": "markdown",
   "metadata": {},
   "source": [
    "# Portfolio"
   ]
  },
  {
   "cell_type": "markdown",
   "metadata": {},
   "source": [
    "## Mean and Standard Deviation"
   ]
  },
  {
   "cell_type": "code",
   "execution_count": 24,
   "metadata": {},
   "outputs": [
    {
     "name": "stdout",
     "output_type": "stream",
     "text": [
      "Portfolio mean returns =  0.00035603245148561706\n",
      "Portfolio s.d. returns =  0.007032740006535515\n"
     ]
    }
   ],
   "source": [
    "portf_mean = df_returns['Portf_return'].mean()  # Or = df_returns[['FNZ.NZ','VOOnzd']].mean().dot([0.5,0.5])\n",
    "portf_stdv = df_returns['Portf_return'].std()\n",
    "\n",
    "print('Portfolio mean returns = ',portf_mean)\n",
    "print('Portfolio s.d. returns = ',portf_stdv)"
   ]
  },
  {
   "cell_type": "markdown",
   "metadata": {},
   "source": [
    "$$Porfolio\\ Standard\\ Deviation = \\sqrt{weights^T . (covariance\\ matrix) . weights}$$"
   ]
  },
  {
   "cell_type": "markdown",
   "metadata": {},
   "source": [
    "## Compare returns against Normal Distribution"
   ]
  },
  {
   "cell_type": "code",
   "execution_count": 27,
   "metadata": {},
   "outputs": [
    {
     "data": {
      "image/png": "[encoded data removed]",
      "text/plain": [
       "<Figure size 640x480 with 1 Axes>"
      ]
     },
     "metadata": {},
     "output_type": "display_data"
    },
    {
     "data": {
      "image/png": "[encoded data removed]",
      "text/plain": [
       "<Figure size 640x480 with 1 Axes>"
      ]
     },
     "metadata": {},
     "output_type": "display_data"
    },
    {
     "data": {
      "image/png": "[encoded data removed]",
      "text/plain": [
       "<Figure size 640x480 with 1 Axes>"
      ]
     },
     "metadata": {},
     "output_type": "display_data"
    },
    {
     "data": {
      "image/png": "[encoded data removed]",
      "text/plain": [
       "<Figure size 640x480 with 1 Axes>"
      ]
     },
     "metadata": {},
     "output_type": "display_data"
    }
   ],
   "source": [
    "# plot 3 returns against Normal Distribution\n",
    "Xaxis = np.linspace(portf_mean -3 * portf_stdv, portf_mean +3 * portf_stdv, 1000)   # 1000 evenly spaced numbers between +/- 3 times portfolio's standard deviation\n",
    "plt.hist(df_returns['FNZ.NZ'], alpha=0.5, bins=30, density=True, label='FNZ')       # returns as histogram \n",
    "plt.plot(Xaxis, norm.pdf(Xaxis,portf_mean,portf_stdv), label='Normal Distribution')    # Normal Distribution as line. Using portfolio's mean & s.d.\n",
    "plt.legend()\n",
    "plt.xlabel('Returns')\n",
    "plt.ylabel('Density')\n",
    "plt.show()\n",
    "\n",
    "plt.hist(df_returns['VOOnzd'], alpha=0.5, bins=30, density=True, label='VOO (nzd)')       # returns as histogram \n",
    "plt.plot(Xaxis, norm.pdf(Xaxis,portf_mean,portf_stdv), label='Normal Distribution')    # Normal Distribution as line. Using portfolio's mean & s.d.\n",
    "plt.legend()\n",
    "plt.xlabel('Returns')\n",
    "plt.ylabel('Density')\n",
    "plt.show()\n",
    "\n",
    "plt.hist(df_returns['NZDUSD=X'], alpha=0.5, bins=30, density=True, label='NZDUSD')     # returns as histogram \n",
    "plt.plot(Xaxis, norm.pdf(Xaxis,portf_mean,portf_stdv), label='Normal Distribution')    # Normal Distribution as line. Using portfolio's mean & s.d.\n",
    "plt.legend()\n",
    "plt.xlabel('Returns')\n",
    "plt.ylabel('Density')\n",
    "plt.show()\n",
    "\n",
    "plt.hist(df_returns['Portf_return'], alpha=0.5, bins=30, density=True, label='Portfolio (nzd)')       # returns as histogram \n",
    "plt.plot(Xaxis, norm.pdf(Xaxis,portf_mean,portf_stdv), label='Normal Distribution')    # Normal Distribution as line. Using portfolio's mean & s.d.\n",
    "plt.legend()\n",
    "plt.xlabel('Returns')\n",
    "plt.ylabel('Density')\n",
    "plt.show()"
   ]
  },
  {
   "cell_type": "markdown",
   "metadata": {},
   "source": [
    "# VaR"
   ]
  },
  {
   "cell_type": "markdown",
   "metadata": {},
   "source": [
    "$$VaR\\ = -(mean\\ - standard\\ deviation * Z_a * \\sqrt{days}) $$"
   ]
  },
  {
   "cell_type": "code",
   "execution_count": 37,
   "metadata": {},
   "outputs": [],
   "source": [
    "# VaR = [returns' mean - (critical value of the standard normal distribution @ alpha confidence level) * returns' s.d.] * [portfolio $ value]\n",
    "# VAR = [mu - ppf@confidence levl * stdev] * [portfolio $ value]\n",
    "# (OPTIONAL) can take the negative value of the above to represent VaR as negative number, as a loss value\n",
    "# VaR over n-day = VaR 1-day multiply by sqrt(days)\n",
    "def calc_VaR(alpha, mu, std, portfolio_value, num_days):\n",
    "    '''\n",
    "        alpha = confidence level\n",
    "        mu = mean\n",
    "        std = portfolio change standard deviation\n",
    "        portfolio = portfolio value\n",
    "        num_days = nth day\n",
    "    '''\n",
    "    return abs((mu - norm.ppf(alpha) * std * np.sqrt(num_days)) * portfolio_value)"
   ]
  },
  {
   "cell_type": "code",
   "execution_count": 50,
   "metadata": {},
   "outputs": [
    {
     "name": "stdout",
     "output_type": "stream",
     "text": [
      "VaR @ 90.0% = 9.37\n",
      "VaR @ 95.0% = 11.92\n",
      "VaR @ 99.0% = 16.72\n"
     ]
    }
   ],
   "source": [
    "# define the confidence level\n",
    "conf_levels = [0.10, 0.05, 0.01]\n",
    "\n",
    "# compute parametric VaR for given confidence levels, @ 1-day interval\n",
    "parametric_VaRs = [calc_VaR(conf_level, portf_mean, portf_stdv, invst, 1) for conf_level in conf_levels]\n",
    "\n",
    "# print results\n",
    "for i, VaR in enumerate(parametric_VaRs):\n",
    "    print('VaR @ {0}%'.format((1-conf_levels[i])*100),'=', round(VaR,2))"
   ]
  },
  {
   "cell_type": "markdown",
   "metadata": {},
   "source": [
    "# Conditional VaR = CVaR = Expected Shortfall = ES"
   ]
  },
  {
   "cell_type": "code",
   "execution_count": 51,
   "metadata": {},
   "outputs": [],
   "source": [
    "# CVaR = probability-weighted average of tail losses\n",
    "# CVaR = dividing the α tail by equal number of slices. Then estimating VaR for each slice. Then taking average of those VaR\n",
    "def calc_CVaR(alpha, mu, std, portfolio_value, num_days):\n",
    "    return (mu + alpha**-1 * norm.pdf(norm.ppf(alpha))* std * np.sqrt(num_days))*portfolio_value"
   ]
  },
  {
   "cell_type": "code",
   "execution_count": 53,
   "metadata": {},
   "outputs": [
    {
     "name": "stdout",
     "output_type": "stream",
     "text": [
      "CVaR @ 90.0% = 12.7\n",
      "CVaR @ 95.0% = 14.86\n",
      "CVaR @ 99.0% = 19.1\n"
     ]
    }
   ],
   "source": [
    "# compute parametric CVaR for given confidence levels, @ 1-day interval\n",
    "parametric_CVaRs = [calc_CVaR(conf_level, portf_mean, portf_stdv, invst, 1) for conf_level in conf_levels]\n",
    "\n",
    "# print results\n",
    "for i, CVaR in enumerate(parametric_CVaRs):\n",
    "    print('CVaR @ {0}%'.format((1-conf_levels[i])*100),'=', round(CVaR,2))"
   ]
  },
  {
   "cell_type": "code",
   "execution_count": 13,
   "metadata": {},
   "outputs": [
    {
     "data": {
      "text/html": [
       "<div>\n",
       "<style scoped>\n",
       "    .dataframe tbody tr th:only-of-type {\n",
       "        vertical-align: middle;\n",
       "    }\n",
       "\n",
       "    .dataframe tbody tr th {\n",
       "        vertical-align: top;\n",
       "    }\n",
       "\n",
       "    .dataframe thead th {\n",
       "        text-align: right;\n",
       "    }\n",
       "</style>\n",
       "<table border=\"1\" class=\"dataframe\">\n",
       "  <thead>\n",
       "    <tr style=\"text-align: right;\">\n",
       "      <th></th>\n",
       "      <th>FNZ.NZ</th>\n",
       "      <th>VOO</th>\n",
       "      <th>NZDUSD=X</th>\n",
       "      <th>VOOnzd</th>\n",
       "      <th>Portf_return</th>\n",
       "    </tr>\n",
       "  </thead>\n",
       "  <tbody>\n",
       "    <tr>\n",
       "      <th>2012-10-23</th>\n",
       "      <td>-0.003466</td>\n",
       "      <td>-0.014729</td>\n",
       "      <td>-0.008718</td>\n",
       "      <td>-0.006011</td>\n",
       "      <td>-0.004738</td>\n",
       "    </tr>\n",
       "    <tr>\n",
       "      <th>2012-10-24</th>\n",
       "      <td>0.000000</td>\n",
       "      <td>-0.002166</td>\n",
       "      <td>0.011586</td>\n",
       "      <td>-0.013753</td>\n",
       "      <td>-0.006876</td>\n",
       "    </tr>\n",
       "    <tr>\n",
       "      <th>2012-10-25</th>\n",
       "      <td>0.000000</td>\n",
       "      <td>0.002784</td>\n",
       "      <td>-0.000902</td>\n",
       "      <td>0.003687</td>\n",
       "      <td>0.001843</td>\n",
       "    </tr>\n",
       "    <tr>\n",
       "      <th>2012-10-26</th>\n",
       "      <td>0.000000</td>\n",
       "      <td>-0.000773</td>\n",
       "      <td>0.000000</td>\n",
       "      <td>-0.000773</td>\n",
       "      <td>-0.000386</td>\n",
       "    </tr>\n",
       "    <tr>\n",
       "      <th>2012-10-28</th>\n",
       "      <td>-0.002086</td>\n",
       "      <td>0.000000</td>\n",
       "      <td>0.000000</td>\n",
       "      <td>0.000000</td>\n",
       "      <td>-0.001043</td>\n",
       "    </tr>\n",
       "  </tbody>\n",
       "</table>\n",
       "</div>"
      ],
      "text/plain": [
       "              FNZ.NZ       VOO  NZDUSD=X    VOOnzd  Portf_return\n",
       "2012-10-23 -0.003466 -0.014729 -0.008718 -0.006011     -0.004738\n",
       "2012-10-24  0.000000 -0.002166  0.011586 -0.013753     -0.006876\n",
       "2012-10-25  0.000000  0.002784 -0.000902  0.003687      0.001843\n",
       "2012-10-26  0.000000 -0.000773  0.000000 -0.000773     -0.000386\n",
       "2012-10-28 -0.002086  0.000000  0.000000  0.000000     -0.001043"
      ]
     },
     "execution_count": 13,
     "metadata": {},
     "output_type": "execute_result"
    }
   ],
   "source": [
    "df_returns.head()"
   ]
  }
 ],
 "metadata": {
  "kernelspec": {
   "display_name": "Python 3.10.6 ('ValueAtRisk')",
   "language": "python",
   "name": "python3"
  },
  "language_info": {
   "codemirror_mode": {
    "name": "ipython",
    "version": 3
   },
   "file_extension": ".py",
   "mimetype": "text/x-python",
   "name": "python",
   "nbconvert_exporter": "python",
   "pygments_lexer": "ipython3",
   "version": "3.10.6"
  },
  "orig_nbformat": 4,
  "vscode": {
   "interpreter": {
    "hash": "5e4aa0e4d174a68968a014cb89b147c5edf26f1ab8d94fd28193e9b1580fd22b"
   }
  }
 },
 "nbformat": 4,
 "nbformat_minor": 2
}
